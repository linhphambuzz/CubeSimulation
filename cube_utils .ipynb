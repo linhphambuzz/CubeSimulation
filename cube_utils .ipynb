{
 "cells": [
  {
   "cell_type": "code",
   "execution_count": 1,
   "metadata": {},
   "outputs": [],
   "source": [
    "import numpy as np \n",
    "import random\n",
    "\n",
    "#define constant \n",
    "center_mass= 50000.0 \n",
    "g=9.98 \n",
    "mass=10.0 # mass of each particle \n",
    "max_particles= 500 \n",
    "max_size=2000\n",
    "max_v= 5.0 \n",
    "time_steps=1000 \n",
    "\n"
   ]
  },
  {
   "cell_type": "code",
   "execution_count": 2,
   "metadata": {},
   "outputs": [],
   "source": [
    "#2 matrix for particles and updates \n",
    "particles=np.zeros((max_particles+1,7),dtype=float) \n",
    "updates=np.zeros((max_particles+1,7),dtype=float) "
   ]
  },
  {
   "cell_type": "code",
   "execution_count": 3,
   "metadata": {},
   "outputs": [],
   "source": [
    "#set center of mass , set first column all to mass\n",
    "particles[:,0]=updates[:,0]= mass\n",
    "particles[0,0]= updates[0,0]= center_mass\n",
    "particles[0,1:6]=0 \n"
   ]
  },
  {
   "cell_type": "code",
   "execution_count": 4,
   "metadata": {},
   "outputs": [],
   "source": [
    "def pos_neg():\n",
    "    a=random.random() \n",
    "    if a>0.5:\n",
    "        return -1\n",
    "    return 1"
   ]
  },
  {
   "cell_type": "code",
   "execution_count": 5,
   "metadata": {},
   "outputs": [],
   "source": [
    "#func to generate random particle and initiate v, r \n",
    "def generate_particle(pos):\n",
    "    x0=(random.random())*max_size/2  #position in the range of the cube size max_radius \n",
    "    y0=(random.random())*max_size/2 \n",
    "    z0=(random.random())*max_size/2 \n",
    "    #make coordinate randomly postive/negative \n",
    "    particles[pos,1]=x=x0*pos_neg()\n",
    "    particles[pos,2]=y=y0*pos_neg()\n",
    "    particles[pos,3]=z=z0*pos_neg()\n",
    "    #calculate distance r\n",
    "    r=np.sqrt(x**2+y**2+z**2)\n",
    "    #calculate intit v interacting with CM \n",
    "    v=np.sqrt(g*center_mass/r) \n",
    "    particles[pos,4]=vx=v*(x/r)\n",
    "    particles[pos,5]=vy=v*(y/r)\n",
    "    particles[pos,6]=vz=v*(z/r)\n",
    "    "
   ]
  },
  {
   "cell_type": "code",
   "execution_count": 6,
   "metadata": {},
   "outputs": [],
   "source": [
    "#func to calculate distance bw 2 particle \n",
    "def distance(pos1,pos2): \n",
    "    r=0 \n",
    "    for i in range(1,4):\n",
    "        di= particles[pos1,i]-particles[pos2,i]\n",
    "        r+=di**2\n",
    "    return np.sqrt(r)\n",
    "     "
   ]
  },
  {
   "cell_type": "code",
   "execution_count": 7,
   "metadata": {},
   "outputs": [],
   "source": [
    "#function to calculate force bw 2 particles \n",
    "def get_force(pos1,pos2): \n",
    "    d= distance(pos1,pos2)\n",
    "    return (g*particles[pos1,0]*particles[pos2,0])/d**2"
   ]
  },
  {
   "cell_type": "code",
   "execution_count": 8,
   "metadata": {},
   "outputs": [],
   "source": [
    "#force exert on 1 particle \n",
    "def force(pos): \n",
    "    f=np.zeros(4)\n",
    "    f[0]=0.0 #total force \n",
    "    f[1]=0.0 #fx\n",
    "    f[2]=0.0 #fy\n",
    "    f[3]=0.0 #fz\n",
    "    for i in range(max_particles+1):\n",
    "        while i!= pos: \n",
    "            f[0]+=get_force(pos,i)  #total force \n",
    "            f[1]+=f[0]*(particles[pos,1]- particles[i,1])/distance(pos,i)  #force in the x direction \n",
    "            f[2]+=f[0]*(particles[pos,2]- particles[i,2])/distance(pos,i) #force in the y direction \n",
    "            f[3]+=f[0]*(particles[pos,3]- particles[i,3])/distance(pos,i) #force in the z direction \n",
    "    return f\n",
    "    "
   ]
  },
  {
   "cell_type": "code",
   "execution_count": 9,
   "metadata": {},
   "outputs": [],
   "source": [
    "#function to process particle \n",
    "def process_particle(pos): \n",
    "    #calculate acceleration a=F/m\n",
    "    ax=force(pos)[1]/particles[pos,0] \n",
    "    ay=force(pos)[2]/particles[pos,0]\n",
    "    az=force(pos)[3]/particles[pos,0]\n",
    "    \n",
    "    #calculate and update v\n",
    "    vx=particles[pos,4]+ax\n",
    "    vy=particle[pos,5]+ay\n",
    "    vz=particle[pos,6]+az\n",
    "    updates[pos,4]=vx\n",
    "    updates[pos,5]=vy\n",
    "    updates[pos,6]=vz\n",
    "    \n",
    "    #calculate and update x,y,z \n",
    "    updates[pos,1]=particles[pos,1] + vx\n",
    "    updates[pos,2]=particles[pos,2] + vy \n",
    "    updates[pos,3]=particles[pos,3] + vz \n",
    "       "
   ]
  },
  {
   "cell_type": "code",
   "execution_count": 10,
   "metadata": {},
   "outputs": [],
   "source": [
    "#function to update particle matrix \n",
    "def update_particles():\n",
    "    particles=updates "
   ]
  },
  {
   "cell_type": "code",
   "execution_count": 11,
   "metadata": {},
   "outputs": [],
   "source": [
    "#function to write vtk \n",
    "def save_vtk(i): \n",
    "        fname='data{:04d}.vtk'.format(i)\n",
    "        fout=open(fname,'w')\n",
    "        fout.write('# vtk DataFile\\n')\n",
    "        fout.write('Galaxy step {:04d}\\nASCII\\n\\n'.format(i))\n",
    "        fout.write('DATASET POLYDATA\\nPOINTS {:03d} FLOAT\\n'.format(max_particles+1))\n",
    "        for j in range (max_particles+1): \n",
    "            fout.write('{:3.3f} {:3.3f} {:3.3f}\\n'.format(particles[j,1],particles[j,2],particles[j,3]))\n",
    "        fout.close()"
   ]
  },
  {
   "cell_type": "code",
   "execution_count": 12,
   "metadata": {},
   "outputs": [],
   "source": [
    "#generate data, save as the first file \n",
    "for i in range(1,max_particles+1): \n",
    "    generate_particle(i)\n",
    "save_vtk(0)   "
   ]
  },
  {
   "cell_type": "code",
   "execution_count": null,
   "metadata": {},
   "outputs": [],
   "source": [
    "#main function calls \n",
    "for i in range(1,10): \n",
    "    for j in range(max_particles+1): \n",
    "        process_particle(j)\n",
    "    update_particles()\n",
    "    save_vtk(i)\n",
    "    "
   ]
  },
  {
   "cell_type": "code",
   "execution_count": null,
   "metadata": {},
   "outputs": [],
   "source": []
  }
 ],
 "metadata": {
  "kernelspec": {
   "display_name": "Python 3",
   "language": "python",
   "name": "python3"
  },
  "language_info": {
   "codemirror_mode": {
    "name": "ipython",
    "version": 3
   },
   "file_extension": ".py",
   "mimetype": "text/x-python",
   "name": "python",
   "nbconvert_exporter": "python",
   "pygments_lexer": "ipython3",
   "version": "3.8.5"
  }
 },
 "nbformat": 4,
 "nbformat_minor": 4
}
